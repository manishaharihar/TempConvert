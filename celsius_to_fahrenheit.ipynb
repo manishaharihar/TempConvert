{
  "nbformat": 4,
  "nbformat_minor": 0,
  "metadata": {
    "colab": {
      "provenance": [],
      "authorship_tag": "ABX9TyOF1bTkq9VWOFTeprJB+kTo",
      "include_colab_link": true
    },
    "kernelspec": {
      "name": "python3",
      "display_name": "Python 3"
    },
    "language_info": {
      "name": "python"
    }
  },
  "cells": [
    {
      "cell_type": "markdown",
      "metadata": {
        "id": "view-in-github",
        "colab_type": "text"
      },
      "source": [
        "<a href=\"https://colab.research.google.com/github/manishaharihar/TempConvert/blob/main/celsius_to_fahrenheit.ipynb\" target=\"_parent\"><img src=\"https://colab.research.google.com/assets/colab-badge.svg\" alt=\"Open In Colab\"/></a>"
      ]
    },
    {
      "cell_type": "code",
      "execution_count": 14,
      "metadata": {
        "colab": {
          "base_uri": "https://localhost:8080/"
        },
        "id": "LPtj5xg8Kj3G",
        "outputId": "8f3d5201-f8c7-4bfb-8ab4-a708f8369432"
      },
      "outputs": [
        {
          "output_type": "stream",
          "name": "stdout",
          "text": [
            "Enter the celsius temparature:25\n",
            "25.0°C is equal to 77.0°F\n"
          ]
        }
      ],
      "source": [
        "cel=float(input(\"Enter the celsius temparature:\"))\n",
        "#formula to convert into fahrenheit\n",
        "Feh=(cel*9/5)+32\n",
        "print(f'{cel}°C is equal to {Feh}°F' )"
      ]
    }
  ]
}